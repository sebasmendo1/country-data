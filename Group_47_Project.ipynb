{
  "nbformat": 4,
  "nbformat_minor": 0,
  "metadata": {
    "kernelspec": {
      "display_name": "R",
      "language": "R",
      "name": "ir"
    },
    "language_info": {
      "codemirror_mode": "r",
      "file_extension": ".r",
      "mimetype": "text/x-r-source",
      "name": "R",
      "pygments_lexer": "r",
      "version": "4.0.0"
    },
    "colab": {
      "name": "Group-47-Project.ipynb",
      "provenance": [],
      "collapsed_sections": [],
      "include_colab_link": true
    }
  },
  "cells": [
    {
      "cell_type": "markdown",
      "metadata": {
        "id": "view-in-github",
        "colab_type": "text"
      },
      "source": [
        "<a href=\"https://colab.research.google.com/github/sebasmendo1/country-data/blob/main/Group_47_Project.ipynb\" target=\"_parent\"><img src=\"https://colab.research.google.com/assets/colab-badge.svg\" alt=\"Open In Colab\"/></a>"
      ]
    },
    {
      "cell_type": "code",
      "metadata": {
        "id": "102x0pnCgOr7",
        "colab": {
          "base_uri": "https://localhost:8080/",
          "height": 317
        },
        "outputId": "c158d186-f256-4652-9525-155e49dbf19b"
      },
      "source": [
        "library(tidyverse)\n",
        "library(tidymodels)\n",
        "library(repr)\n",
        "library(readxl)\n",
        "library(rvest)\n",
        "library(lubridate)\n",
        "library(dplyr)"
      ],
      "execution_count": 1,
      "outputs": [
        {
          "output_type": "stream",
          "text": [
            "── \u001b[1mAttaching packages\u001b[22m ─────────────────────────────────────── tidyverse 1.3.0 ──\n",
            "\n",
            "\u001b[32m✔\u001b[39m \u001b[34mggplot2\u001b[39m 3.3.2     \u001b[32m✔\u001b[39m \u001b[34mpurrr  \u001b[39m 0.3.4\n",
            "\u001b[32m✔\u001b[39m \u001b[34mtibble \u001b[39m 3.0.4     \u001b[32m✔\u001b[39m \u001b[34mdplyr  \u001b[39m 1.0.2\n",
            "\u001b[32m✔\u001b[39m \u001b[34mtidyr  \u001b[39m 1.1.2     \u001b[32m✔\u001b[39m \u001b[34mstringr\u001b[39m 1.4.0\n",
            "\u001b[32m✔\u001b[39m \u001b[34mreadr  \u001b[39m 1.4.0     \u001b[32m✔\u001b[39m \u001b[34mforcats\u001b[39m 0.5.0\n",
            "\n",
            "── \u001b[1mConflicts\u001b[22m ────────────────────────────────────────── tidyverse_conflicts() ──\n",
            "\u001b[31m✖\u001b[39m \u001b[34mdplyr\u001b[39m::\u001b[32mfilter()\u001b[39m masks \u001b[34mstats\u001b[39m::filter()\n",
            "\u001b[31m✖\u001b[39m \u001b[34mdplyr\u001b[39m::\u001b[32mlag()\u001b[39m    masks \u001b[34mstats\u001b[39m::lag()\n",
            "\n"
          ],
          "name": "stderr"
        },
        {
          "output_type": "error",
          "ename": "ERROR",
          "evalue": "ignored",
          "traceback": [
            "Error in library(tidymodels): there is no package called ‘tidymodels’\nTraceback:\n",
            "1. library(tidymodels)"
          ]
        }
      ]
    },
    {
      "cell_type": "code",
      "metadata": {
        "id": "IijjLq0IgOsF"
      },
      "source": [
        "data <- read.csv(\"https://covid.ourworldindata.org/data/ecdc/full_data.csv\")\n",
        "world_population <- read.csv(\"https://raw.githubusercontent.com/sebasmendo1/country-data/main/population-data.csv\")\n",
        "\n",
        "#Population data from UN: https://population.un.org/wpp/Download/Standard/Population/"
      ],
      "execution_count": 38,
      "outputs": []
    },
    {
      "cell_type": "code",
      "metadata": {
        "id": "Hqjalg7zgOsJ"
      },
      "source": [
        "covid_data <- mutate(data, date = as.Date(date, format= \"%Y-%m-%d\"))"
      ],
      "execution_count": 4,
      "outputs": []
    },
    {
      "cell_type": "code",
      "metadata": {
        "colab": {
          "base_uri": "https://localhost:8080/",
          "height": 1000
        },
        "id": "Aww6KtBu1nl6",
        "outputId": "4ae26eb0-d699-4d17-9803-140923bc96d4"
      },
      "source": [
        "covid_data_filter <- filter(data, date == \"2020-11-01\", total_deaths != \"NA\", location != \"World\") %>% \n",
        "                      select(\"date\", \"location\", \"total_cases\", \"total_deaths\")%>%\n",
        "#(-\"weekly_cases\", -\"weekly_deaths\", -\"biweekly_cases\", -\"biweekly_deaths\")\n",
        "covid_data_filter"
      ],
      "execution_count": 43,
      "outputs": [
        {
          "output_type": "display_data",
          "data": {
            "text/plain": [
              "    date       location                        total_cases total_deaths\n",
              "1   2020-11-01 Afghanistan                       41501       1536      \n",
              "2   2020-11-01 Albania                           20875        509      \n",
              "3   2020-11-01 Algeria                           57942       1964      \n",
              "4   2020-11-01 Andorra                            4756         75      \n",
              "5   2020-11-01 Angola                            10558        279      \n",
              "6   2020-11-01 Antigua and Barbuda                 128          3      \n",
              "7   2020-11-01 Argentina                       1166911      31002      \n",
              "8   2020-11-01 Armenia                           92254       1363      \n",
              "9   2020-11-01 Aruba                              4513         38      \n",
              "10  2020-11-01 Australia                         27590        907      \n",
              "11  2020-11-01 Austria                          106584       1097      \n",
              "12  2020-11-01 Azerbaijan                        55269        730      \n",
              "13  2020-11-01 Bahamas                            6714        144      \n",
              "14  2020-11-01 Bahrain                           81645        321      \n",
              "15  2020-11-01 Bangladesh                       407684       5923      \n",
              "16  2020-11-01 Barbados                            237          7      \n",
              "17  2020-11-01 Belarus                           98482        980      \n",
              "18  2020-11-01 Belgium                          448708      11854      \n",
              "19  2020-11-01 Belize                             3462         58      \n",
              "20  2020-11-01 Benin                              2643         41      \n",
              "21  2020-11-01 Bermuda                             199          9      \n",
              "22  2020-11-01 Bolivia                          141757       8725      \n",
              "23  2020-11-01 Bonaire Sint Eustatius and Saba     153          3      \n",
              "24  2020-11-01 Bosnia and Herzegovina            50090       1234      \n",
              "25  2020-11-01 Botswana                           6642         24      \n",
              "26  2020-11-01 Brazil                          5535605     159884      \n",
              "27  2020-11-01 British Virgin Islands               72          1      \n",
              "28  2020-11-01 Brunei                              148          3      \n",
              "29  2020-11-01 Bulgaria                          52844       1279      \n",
              "30  2020-11-01 Burkina Faso                       2500         67      \n",
              "⋮   ⋮          ⋮                               ⋮           ⋮           \n",
              "161 2020-11-01 Sri Lanka                         10663         20      \n",
              "162 2020-11-01 Sudan                             13765        837      \n",
              "163 2020-11-01 Suriname                           5203        111      \n",
              "164 2020-11-01 Swaziland                          5917        117      \n",
              "165 2020-11-01 Sweden                           132030       6017      \n",
              "166 2020-11-01 Switzerland                      153728       2035      \n",
              "167 2020-11-01 Syria                              5728        288      \n",
              "168 2020-11-01 Taiwan                              558          7      \n",
              "169 2020-11-01 Tajikistan                        11017         82      \n",
              "170 2020-11-01 Tanzania                            509         21      \n",
              "171 2020-11-01 Thailand                           3784         59      \n",
              "172 2020-11-01 Togo                               2331         57      \n",
              "173 2020-11-01 Trinidad and Tobago                5668        107      \n",
              "174 2020-11-01 Tunisia                           61115       1348      \n",
              "175 2020-11-01 Turkey                           375367      10252      \n",
              "176 2020-11-01 Turks and Caicos Islands            704          6      \n",
              "177 2020-11-01 Uganda                            12495        111      \n",
              "178 2020-11-01 Ukraine                          387481       7196      \n",
              "179 2020-11-01 United Arab Emirates             132629        495      \n",
              "180 2020-11-01 United Kingdom                  1011660      46555      \n",
              "181 2020-11-01 United States                   9126361     230556      \n",
              "182 2020-11-01 United States Virgin Islands       1376         21      \n",
              "183 2020-11-01 Uruguay                            3124         58      \n",
              "184 2020-11-01 Uzbekistan                        67055        568      \n",
              "185 2020-11-01 Venezuela                         92013        798      \n",
              "186 2020-11-01 Vietnam                            1180         35      \n",
              "187 2020-11-01 Western Sahara                      766          1      \n",
              "188 2020-11-01 Yemen                              2063        600      \n",
              "189 2020-11-01 Zambia                            16432        349      \n",
              "190 2020-11-01 Zimbabwe                           8362        242      "
            ],
            "text/latex": "A data.frame: 190 × 4\n\\begin{tabular}{llll}\n date & location & total\\_cases & total\\_deaths\\\\\n <chr> & <chr> & <int> & <int>\\\\\n\\hline\n\t 2020-11-01 & Afghanistan                     &   41501 &   1536\\\\\n\t 2020-11-01 & Albania                         &   20875 &    509\\\\\n\t 2020-11-01 & Algeria                         &   57942 &   1964\\\\\n\t 2020-11-01 & Andorra                         &    4756 &     75\\\\\n\t 2020-11-01 & Angola                          &   10558 &    279\\\\\n\t 2020-11-01 & Antigua and Barbuda             &     128 &      3\\\\\n\t 2020-11-01 & Argentina                       & 1166911 &  31002\\\\\n\t 2020-11-01 & Armenia                         &   92254 &   1363\\\\\n\t 2020-11-01 & Aruba                           &    4513 &     38\\\\\n\t 2020-11-01 & Australia                       &   27590 &    907\\\\\n\t 2020-11-01 & Austria                         &  106584 &   1097\\\\\n\t 2020-11-01 & Azerbaijan                      &   55269 &    730\\\\\n\t 2020-11-01 & Bahamas                         &    6714 &    144\\\\\n\t 2020-11-01 & Bahrain                         &   81645 &    321\\\\\n\t 2020-11-01 & Bangladesh                      &  407684 &   5923\\\\\n\t 2020-11-01 & Barbados                        &     237 &      7\\\\\n\t 2020-11-01 & Belarus                         &   98482 &    980\\\\\n\t 2020-11-01 & Belgium                         &  448708 &  11854\\\\\n\t 2020-11-01 & Belize                          &    3462 &     58\\\\\n\t 2020-11-01 & Benin                           &    2643 &     41\\\\\n\t 2020-11-01 & Bermuda                         &     199 &      9\\\\\n\t 2020-11-01 & Bolivia                         &  141757 &   8725\\\\\n\t 2020-11-01 & Bonaire Sint Eustatius and Saba &     153 &      3\\\\\n\t 2020-11-01 & Bosnia and Herzegovina          &   50090 &   1234\\\\\n\t 2020-11-01 & Botswana                        &    6642 &     24\\\\\n\t 2020-11-01 & Brazil                          & 5535605 & 159884\\\\\n\t 2020-11-01 & British Virgin Islands          &      72 &      1\\\\\n\t 2020-11-01 & Brunei                          &     148 &      3\\\\\n\t 2020-11-01 & Bulgaria                        &   52844 &   1279\\\\\n\t 2020-11-01 & Burkina Faso                    &    2500 &     67\\\\\n\t ⋮ & ⋮ & ⋮ & ⋮\\\\\n\t 2020-11-01 & Sri Lanka                    &   10663 &     20\\\\\n\t 2020-11-01 & Sudan                        &   13765 &    837\\\\\n\t 2020-11-01 & Suriname                     &    5203 &    111\\\\\n\t 2020-11-01 & Swaziland                    &    5917 &    117\\\\\n\t 2020-11-01 & Sweden                       &  132030 &   6017\\\\\n\t 2020-11-01 & Switzerland                  &  153728 &   2035\\\\\n\t 2020-11-01 & Syria                        &    5728 &    288\\\\\n\t 2020-11-01 & Taiwan                       &     558 &      7\\\\\n\t 2020-11-01 & Tajikistan                   &   11017 &     82\\\\\n\t 2020-11-01 & Tanzania                     &     509 &     21\\\\\n\t 2020-11-01 & Thailand                     &    3784 &     59\\\\\n\t 2020-11-01 & Togo                         &    2331 &     57\\\\\n\t 2020-11-01 & Trinidad and Tobago          &    5668 &    107\\\\\n\t 2020-11-01 & Tunisia                      &   61115 &   1348\\\\\n\t 2020-11-01 & Turkey                       &  375367 &  10252\\\\\n\t 2020-11-01 & Turks and Caicos Islands     &     704 &      6\\\\\n\t 2020-11-01 & Uganda                       &   12495 &    111\\\\\n\t 2020-11-01 & Ukraine                      &  387481 &   7196\\\\\n\t 2020-11-01 & United Arab Emirates         &  132629 &    495\\\\\n\t 2020-11-01 & United Kingdom               & 1011660 &  46555\\\\\n\t 2020-11-01 & United States                & 9126361 & 230556\\\\\n\t 2020-11-01 & United States Virgin Islands &    1376 &     21\\\\\n\t 2020-11-01 & Uruguay                      &    3124 &     58\\\\\n\t 2020-11-01 & Uzbekistan                   &   67055 &    568\\\\\n\t 2020-11-01 & Venezuela                    &   92013 &    798\\\\\n\t 2020-11-01 & Vietnam                      &    1180 &     35\\\\\n\t 2020-11-01 & Western Sahara               &     766 &      1\\\\\n\t 2020-11-01 & Yemen                        &    2063 &    600\\\\\n\t 2020-11-01 & Zambia                       &   16432 &    349\\\\\n\t 2020-11-01 & Zimbabwe                     &    8362 &    242\\\\\n\\end{tabular}\n",
            "text/markdown": "\nA data.frame: 190 × 4\n\n| date &lt;chr&gt; | location &lt;chr&gt; | total_cases &lt;int&gt; | total_deaths &lt;int&gt; |\n|---|---|---|---|\n| 2020-11-01 | Afghanistan                     |   41501 |   1536 |\n| 2020-11-01 | Albania                         |   20875 |    509 |\n| 2020-11-01 | Algeria                         |   57942 |   1964 |\n| 2020-11-01 | Andorra                         |    4756 |     75 |\n| 2020-11-01 | Angola                          |   10558 |    279 |\n| 2020-11-01 | Antigua and Barbuda             |     128 |      3 |\n| 2020-11-01 | Argentina                       | 1166911 |  31002 |\n| 2020-11-01 | Armenia                         |   92254 |   1363 |\n| 2020-11-01 | Aruba                           |    4513 |     38 |\n| 2020-11-01 | Australia                       |   27590 |    907 |\n| 2020-11-01 | Austria                         |  106584 |   1097 |\n| 2020-11-01 | Azerbaijan                      |   55269 |    730 |\n| 2020-11-01 | Bahamas                         |    6714 |    144 |\n| 2020-11-01 | Bahrain                         |   81645 |    321 |\n| 2020-11-01 | Bangladesh                      |  407684 |   5923 |\n| 2020-11-01 | Barbados                        |     237 |      7 |\n| 2020-11-01 | Belarus                         |   98482 |    980 |\n| 2020-11-01 | Belgium                         |  448708 |  11854 |\n| 2020-11-01 | Belize                          |    3462 |     58 |\n| 2020-11-01 | Benin                           |    2643 |     41 |\n| 2020-11-01 | Bermuda                         |     199 |      9 |\n| 2020-11-01 | Bolivia                         |  141757 |   8725 |\n| 2020-11-01 | Bonaire Sint Eustatius and Saba |     153 |      3 |\n| 2020-11-01 | Bosnia and Herzegovina          |   50090 |   1234 |\n| 2020-11-01 | Botswana                        |    6642 |     24 |\n| 2020-11-01 | Brazil                          | 5535605 | 159884 |\n| 2020-11-01 | British Virgin Islands          |      72 |      1 |\n| 2020-11-01 | Brunei                          |     148 |      3 |\n| 2020-11-01 | Bulgaria                        |   52844 |   1279 |\n| 2020-11-01 | Burkina Faso                    |    2500 |     67 |\n| ⋮ | ⋮ | ⋮ | ⋮ |\n| 2020-11-01 | Sri Lanka                    |   10663 |     20 |\n| 2020-11-01 | Sudan                        |   13765 |    837 |\n| 2020-11-01 | Suriname                     |    5203 |    111 |\n| 2020-11-01 | Swaziland                    |    5917 |    117 |\n| 2020-11-01 | Sweden                       |  132030 |   6017 |\n| 2020-11-01 | Switzerland                  |  153728 |   2035 |\n| 2020-11-01 | Syria                        |    5728 |    288 |\n| 2020-11-01 | Taiwan                       |     558 |      7 |\n| 2020-11-01 | Tajikistan                   |   11017 |     82 |\n| 2020-11-01 | Tanzania                     |     509 |     21 |\n| 2020-11-01 | Thailand                     |    3784 |     59 |\n| 2020-11-01 | Togo                         |    2331 |     57 |\n| 2020-11-01 | Trinidad and Tobago          |    5668 |    107 |\n| 2020-11-01 | Tunisia                      |   61115 |   1348 |\n| 2020-11-01 | Turkey                       |  375367 |  10252 |\n| 2020-11-01 | Turks and Caicos Islands     |     704 |      6 |\n| 2020-11-01 | Uganda                       |   12495 |    111 |\n| 2020-11-01 | Ukraine                      |  387481 |   7196 |\n| 2020-11-01 | United Arab Emirates         |  132629 |    495 |\n| 2020-11-01 | United Kingdom               | 1011660 |  46555 |\n| 2020-11-01 | United States                | 9126361 | 230556 |\n| 2020-11-01 | United States Virgin Islands |    1376 |     21 |\n| 2020-11-01 | Uruguay                      |    3124 |     58 |\n| 2020-11-01 | Uzbekistan                   |   67055 |    568 |\n| 2020-11-01 | Venezuela                    |   92013 |    798 |\n| 2020-11-01 | Vietnam                      |    1180 |     35 |\n| 2020-11-01 | Western Sahara               |     766 |      1 |\n| 2020-11-01 | Yemen                        |    2063 |    600 |\n| 2020-11-01 | Zambia                       |   16432 |    349 |\n| 2020-11-01 | Zimbabwe                     |    8362 |    242 |\n\n",
            "text/html": [
              "<table>\n",
              "<caption>A data.frame: 190 × 4</caption>\n",
              "<thead>\n",
              "\t<tr><th scope=col>date</th><th scope=col>location</th><th scope=col>total_cases</th><th scope=col>total_deaths</th></tr>\n",
              "\t<tr><th scope=col>&lt;chr&gt;</th><th scope=col>&lt;chr&gt;</th><th scope=col>&lt;int&gt;</th><th scope=col>&lt;int&gt;</th></tr>\n",
              "</thead>\n",
              "<tbody>\n",
              "\t<tr><td>2020-11-01</td><td>Afghanistan                    </td><td>  41501</td><td>  1536</td></tr>\n",
              "\t<tr><td>2020-11-01</td><td>Albania                        </td><td>  20875</td><td>   509</td></tr>\n",
              "\t<tr><td>2020-11-01</td><td>Algeria                        </td><td>  57942</td><td>  1964</td></tr>\n",
              "\t<tr><td>2020-11-01</td><td>Andorra                        </td><td>   4756</td><td>    75</td></tr>\n",
              "\t<tr><td>2020-11-01</td><td>Angola                         </td><td>  10558</td><td>   279</td></tr>\n",
              "\t<tr><td>2020-11-01</td><td>Antigua and Barbuda            </td><td>    128</td><td>     3</td></tr>\n",
              "\t<tr><td>2020-11-01</td><td>Argentina                      </td><td>1166911</td><td> 31002</td></tr>\n",
              "\t<tr><td>2020-11-01</td><td>Armenia                        </td><td>  92254</td><td>  1363</td></tr>\n",
              "\t<tr><td>2020-11-01</td><td>Aruba                          </td><td>   4513</td><td>    38</td></tr>\n",
              "\t<tr><td>2020-11-01</td><td>Australia                      </td><td>  27590</td><td>   907</td></tr>\n",
              "\t<tr><td>2020-11-01</td><td>Austria                        </td><td> 106584</td><td>  1097</td></tr>\n",
              "\t<tr><td>2020-11-01</td><td>Azerbaijan                     </td><td>  55269</td><td>   730</td></tr>\n",
              "\t<tr><td>2020-11-01</td><td>Bahamas                        </td><td>   6714</td><td>   144</td></tr>\n",
              "\t<tr><td>2020-11-01</td><td>Bahrain                        </td><td>  81645</td><td>   321</td></tr>\n",
              "\t<tr><td>2020-11-01</td><td>Bangladesh                     </td><td> 407684</td><td>  5923</td></tr>\n",
              "\t<tr><td>2020-11-01</td><td>Barbados                       </td><td>    237</td><td>     7</td></tr>\n",
              "\t<tr><td>2020-11-01</td><td>Belarus                        </td><td>  98482</td><td>   980</td></tr>\n",
              "\t<tr><td>2020-11-01</td><td>Belgium                        </td><td> 448708</td><td> 11854</td></tr>\n",
              "\t<tr><td>2020-11-01</td><td>Belize                         </td><td>   3462</td><td>    58</td></tr>\n",
              "\t<tr><td>2020-11-01</td><td>Benin                          </td><td>   2643</td><td>    41</td></tr>\n",
              "\t<tr><td>2020-11-01</td><td>Bermuda                        </td><td>    199</td><td>     9</td></tr>\n",
              "\t<tr><td>2020-11-01</td><td>Bolivia                        </td><td> 141757</td><td>  8725</td></tr>\n",
              "\t<tr><td>2020-11-01</td><td>Bonaire Sint Eustatius and Saba</td><td>    153</td><td>     3</td></tr>\n",
              "\t<tr><td>2020-11-01</td><td>Bosnia and Herzegovina         </td><td>  50090</td><td>  1234</td></tr>\n",
              "\t<tr><td>2020-11-01</td><td>Botswana                       </td><td>   6642</td><td>    24</td></tr>\n",
              "\t<tr><td>2020-11-01</td><td>Brazil                         </td><td>5535605</td><td>159884</td></tr>\n",
              "\t<tr><td>2020-11-01</td><td>British Virgin Islands         </td><td>     72</td><td>     1</td></tr>\n",
              "\t<tr><td>2020-11-01</td><td>Brunei                         </td><td>    148</td><td>     3</td></tr>\n",
              "\t<tr><td>2020-11-01</td><td>Bulgaria                       </td><td>  52844</td><td>  1279</td></tr>\n",
              "\t<tr><td>2020-11-01</td><td>Burkina Faso                   </td><td>   2500</td><td>    67</td></tr>\n",
              "\t<tr><td>⋮</td><td>⋮</td><td>⋮</td><td>⋮</td></tr>\n",
              "\t<tr><td>2020-11-01</td><td>Sri Lanka                   </td><td>  10663</td><td>    20</td></tr>\n",
              "\t<tr><td>2020-11-01</td><td>Sudan                       </td><td>  13765</td><td>   837</td></tr>\n",
              "\t<tr><td>2020-11-01</td><td>Suriname                    </td><td>   5203</td><td>   111</td></tr>\n",
              "\t<tr><td>2020-11-01</td><td>Swaziland                   </td><td>   5917</td><td>   117</td></tr>\n",
              "\t<tr><td>2020-11-01</td><td>Sweden                      </td><td> 132030</td><td>  6017</td></tr>\n",
              "\t<tr><td>2020-11-01</td><td>Switzerland                 </td><td> 153728</td><td>  2035</td></tr>\n",
              "\t<tr><td>2020-11-01</td><td>Syria                       </td><td>   5728</td><td>   288</td></tr>\n",
              "\t<tr><td>2020-11-01</td><td>Taiwan                      </td><td>    558</td><td>     7</td></tr>\n",
              "\t<tr><td>2020-11-01</td><td>Tajikistan                  </td><td>  11017</td><td>    82</td></tr>\n",
              "\t<tr><td>2020-11-01</td><td>Tanzania                    </td><td>    509</td><td>    21</td></tr>\n",
              "\t<tr><td>2020-11-01</td><td>Thailand                    </td><td>   3784</td><td>    59</td></tr>\n",
              "\t<tr><td>2020-11-01</td><td>Togo                        </td><td>   2331</td><td>    57</td></tr>\n",
              "\t<tr><td>2020-11-01</td><td>Trinidad and Tobago         </td><td>   5668</td><td>   107</td></tr>\n",
              "\t<tr><td>2020-11-01</td><td>Tunisia                     </td><td>  61115</td><td>  1348</td></tr>\n",
              "\t<tr><td>2020-11-01</td><td>Turkey                      </td><td> 375367</td><td> 10252</td></tr>\n",
              "\t<tr><td>2020-11-01</td><td>Turks and Caicos Islands    </td><td>    704</td><td>     6</td></tr>\n",
              "\t<tr><td>2020-11-01</td><td>Uganda                      </td><td>  12495</td><td>   111</td></tr>\n",
              "\t<tr><td>2020-11-01</td><td>Ukraine                     </td><td> 387481</td><td>  7196</td></tr>\n",
              "\t<tr><td>2020-11-01</td><td>United Arab Emirates        </td><td> 132629</td><td>   495</td></tr>\n",
              "\t<tr><td>2020-11-01</td><td>United Kingdom              </td><td>1011660</td><td> 46555</td></tr>\n",
              "\t<tr><td>2020-11-01</td><td>United States               </td><td>9126361</td><td>230556</td></tr>\n",
              "\t<tr><td>2020-11-01</td><td>United States Virgin Islands</td><td>   1376</td><td>    21</td></tr>\n",
              "\t<tr><td>2020-11-01</td><td>Uruguay                     </td><td>   3124</td><td>    58</td></tr>\n",
              "\t<tr><td>2020-11-01</td><td>Uzbekistan                  </td><td>  67055</td><td>   568</td></tr>\n",
              "\t<tr><td>2020-11-01</td><td>Venezuela                   </td><td>  92013</td><td>   798</td></tr>\n",
              "\t<tr><td>2020-11-01</td><td>Vietnam                     </td><td>   1180</td><td>    35</td></tr>\n",
              "\t<tr><td>2020-11-01</td><td>Western Sahara              </td><td>    766</td><td>     1</td></tr>\n",
              "\t<tr><td>2020-11-01</td><td>Yemen                       </td><td>   2063</td><td>   600</td></tr>\n",
              "\t<tr><td>2020-11-01</td><td>Zambia                      </td><td>  16432</td><td>   349</td></tr>\n",
              "\t<tr><td>2020-11-01</td><td>Zimbabwe                    </td><td>   8362</td><td>   242</td></tr>\n",
              "</tbody>\n",
              "</table>\n"
            ]
          },
          "metadata": {
            "tags": []
          }
        }
      ]
    },
    {
      "cell_type": "code",
      "metadata": {
        "colab": {
          "base_uri": "https://localhost:8080/",
          "height": 204
        },
        "id": "to404iWh5raD",
        "outputId": "a7a0666a-2ff5-4cd4-e500-861a78e6bd71"
      },
      "source": [
        "#Wrangling the world population to have country name and values for the year 2018 (the most recent year found in the dataset). \n",
        "world_population_2018 <- filter(world_population, Year == \"2018\") %>% \n",
        "                          select(Country.Name, Year, Value)\n",
        "\n",
        "rename_test \n",
        "head(world_population_2018)"
      ],
      "execution_count": 57,
      "outputs": [
        {
          "output_type": "display_data",
          "data": {
            "text/plain": [
              "  Country.Name   Year Value   \n",
              "1 Afghanistan    2018 37172386\n",
              "2 Albania        2018  2866376\n",
              "3 Algeria        2018 42228429\n",
              "4 American Samoa 2018    55465\n",
              "5 Andorra        2018    77006\n",
              "6 Angola         2018 30809762"
            ],
            "text/latex": "A data.frame: 6 × 3\n\\begin{tabular}{r|lll}\n  & Country.Name & Year & Value\\\\\n  & <chr> & <int> & <int>\\\\\n\\hline\n\t1 & Afghanistan    & 2018 & 37172386\\\\\n\t2 & Albania        & 2018 &  2866376\\\\\n\t3 & Algeria        & 2018 & 42228429\\\\\n\t4 & American Samoa & 2018 &    55465\\\\\n\t5 & Andorra        & 2018 &    77006\\\\\n\t6 & Angola         & 2018 & 30809762\\\\\n\\end{tabular}\n",
            "text/markdown": "\nA data.frame: 6 × 3\n\n| <!--/--> | Country.Name &lt;chr&gt; | Year &lt;int&gt; | Value &lt;int&gt; |\n|---|---|---|---|\n| 1 | Afghanistan    | 2018 | 37172386 |\n| 2 | Albania        | 2018 |  2866376 |\n| 3 | Algeria        | 2018 | 42228429 |\n| 4 | American Samoa | 2018 |    55465 |\n| 5 | Andorra        | 2018 |    77006 |\n| 6 | Angola         | 2018 | 30809762 |\n\n",
            "text/html": [
              "<table>\n",
              "<caption>A data.frame: 6 × 3</caption>\n",
              "<thead>\n",
              "\t<tr><th></th><th scope=col>Country.Name</th><th scope=col>Year</th><th scope=col>Value</th></tr>\n",
              "\t<tr><th></th><th scope=col>&lt;chr&gt;</th><th scope=col>&lt;int&gt;</th><th scope=col>&lt;int&gt;</th></tr>\n",
              "</thead>\n",
              "<tbody>\n",
              "\t<tr><th scope=row>1</th><td>Afghanistan   </td><td>2018</td><td>37172386</td></tr>\n",
              "\t<tr><th scope=row>2</th><td>Albania       </td><td>2018</td><td> 2866376</td></tr>\n",
              "\t<tr><th scope=row>3</th><td>Algeria       </td><td>2018</td><td>42228429</td></tr>\n",
              "\t<tr><th scope=row>4</th><td>American Samoa</td><td>2018</td><td>   55465</td></tr>\n",
              "\t<tr><th scope=row>5</th><td>Andorra       </td><td>2018</td><td>   77006</td></tr>\n",
              "\t<tr><th scope=row>6</th><td>Angola        </td><td>2018</td><td>30809762</td></tr>\n",
              "</tbody>\n",
              "</table>\n"
            ]
          },
          "metadata": {
            "tags": []
          }
        }
      ]
    },
    {
      "cell_type": "code",
      "metadata": {
        "colab": {
          "base_uri": "https://localhost:8080/",
          "height": 204
        },
        "id": "Uhr7IrFZ98bG",
        "outputId": "25d08a26-c282-4b97-95a6-0b7159bd8cf8"
      },
      "source": [
        "#Add the population numbers to the COVID data. \n",
        "\n",
        "covid_data_standardized <- left_join(covid_data_filter, world_population_2018, by = c(\"location\"= \"Country.Name\")) %>%\n",
        "                              filter(Value != \"NA\") %>%\n",
        "                              select(location, total_cases, total_deaths, Value) %>%\n",
        "                              mutate(std_cases = total_cases/Value * 100) %>%\n",
        "                              mutate(std_deaths = total_deaths/Value *100) %>%\n",
        "                              select(location, std_cases, std_deaths)\n",
        "head(covid_data_standardized)"
      ],
      "execution_count": 107,
      "outputs": [
        {
          "output_type": "display_data",
          "data": {
            "text/plain": [
              "  location            std_cases  std_deaths  \n",
              "1 Afghanistan         0.11164470 0.0041320996\n",
              "2 Albania             0.72827152 0.0177576145\n",
              "3 Algeria             0.13721088 0.0046508953\n",
              "4 Andorra             6.17614212 0.0973950082\n",
              "5 Angola              0.03426836 0.0009055571\n",
              "6 Antigua and Barbuda 0.13293729 0.0031157178"
            ],
            "text/latex": "A data.frame: 6 × 3\n\\begin{tabular}{r|lll}\n  & location & std\\_cases & std\\_deaths\\\\\n  & <chr> & <dbl> & <dbl>\\\\\n\\hline\n\t1 & Afghanistan         & 0.11164470 & 0.0041320996\\\\\n\t2 & Albania             & 0.72827152 & 0.0177576145\\\\\n\t3 & Algeria             & 0.13721088 & 0.0046508953\\\\\n\t4 & Andorra             & 6.17614212 & 0.0973950082\\\\\n\t5 & Angola              & 0.03426836 & 0.0009055571\\\\\n\t6 & Antigua and Barbuda & 0.13293729 & 0.0031157178\\\\\n\\end{tabular}\n",
            "text/markdown": "\nA data.frame: 6 × 3\n\n| <!--/--> | location &lt;chr&gt; | std_cases &lt;dbl&gt; | std_deaths &lt;dbl&gt; |\n|---|---|---|---|\n| 1 | Afghanistan         | 0.11164470 | 0.0041320996 |\n| 2 | Albania             | 0.72827152 | 0.0177576145 |\n| 3 | Algeria             | 0.13721088 | 0.0046508953 |\n| 4 | Andorra             | 6.17614212 | 0.0973950082 |\n| 5 | Angola              | 0.03426836 | 0.0009055571 |\n| 6 | Antigua and Barbuda | 0.13293729 | 0.0031157178 |\n\n",
            "text/html": [
              "<table>\n",
              "<caption>A data.frame: 6 × 3</caption>\n",
              "<thead>\n",
              "\t<tr><th></th><th scope=col>location</th><th scope=col>std_cases</th><th scope=col>std_deaths</th></tr>\n",
              "\t<tr><th></th><th scope=col>&lt;chr&gt;</th><th scope=col>&lt;dbl&gt;</th><th scope=col>&lt;dbl&gt;</th></tr>\n",
              "</thead>\n",
              "<tbody>\n",
              "\t<tr><th scope=row>1</th><td>Afghanistan        </td><td>0.11164470</td><td>0.0041320996</td></tr>\n",
              "\t<tr><th scope=row>2</th><td>Albania            </td><td>0.72827152</td><td>0.0177576145</td></tr>\n",
              "\t<tr><th scope=row>3</th><td>Algeria            </td><td>0.13721088</td><td>0.0046508953</td></tr>\n",
              "\t<tr><th scope=row>4</th><td>Andorra            </td><td>6.17614212</td><td>0.0973950082</td></tr>\n",
              "\t<tr><th scope=row>5</th><td>Angola             </td><td>0.03426836</td><td>0.0009055571</td></tr>\n",
              "\t<tr><th scope=row>6</th><td>Antigua and Barbuda</td><td>0.13293729</td><td>0.0031157178</td></tr>\n",
              "</tbody>\n",
              "</table>\n"
            ]
          },
          "metadata": {
            "tags": []
          }
        }
      ]
    },
    {
      "cell_type": "markdown",
      "metadata": {
        "id": "dlzKA_sH4Zk8"
      },
      "source": [
        "As we began to create the plot for COVID cases vs. COVID deaths, we realized that there were huge disperities between the total numbers of certain countries. Because of this, we decided to standardize data with total population as this would give us a more accurate estimate of each country's stiuation. "
      ]
    },
    {
      "cell_type": "code",
      "metadata": {
        "colab": {
          "base_uri": "https://localhost:8080/",
          "height": 437
        },
        "id": "36NSJgfE3Hfu",
        "outputId": "c6c62dd0-bff1-4929-dce1-9ba0371d6b1f"
      },
      "source": [
        "covid_scatter <- ggplot(covid_data_standardized, aes(x = std_cases, y = std_deaths)) +\n",
        "            geom_point() +\n",
        "            xlab(\"COVID Cases (% of population\") +\n",
        "            ylab(\"COVID Deaths (% of population)\") +\n",
        "            labs(title = \"COVID Cases vs. Deaths Per Country (Standardized to Population)\")\n",
        "covid_scatter"
      ],
      "execution_count": 109,
      "outputs": [
        {
          "output_type": "display_data",
          "data": {
            "image/png": "[encoded data removed]",
            "text/plain": [
              "plot without title"
            ]
          },
          "metadata": {
            "tags": [],
            "image/png": {
              "width": 420,
              "height": 420
            }
          }
        }
      ]
    },
    {
      "cell_type": "code",
      "metadata": {
        "colab": {
          "base_uri": "https://localhost:8080/",
          "height": 408
        },
        "id": "ArAL-70FT0uj",
        "outputId": "a9a6c2e3-9815-4c3b-f671-7fc5e9929039"
      },
      "source": [
        "#Once the data is standardized and plotted, it's time to cluster it into three categories:\n",
        "set.seed(1234)\n",
        "\n",
        "covid_cluster <- kmeans(covid_data_standardized$std_deaths, centers = 3)\n",
        "covid_cluster"
      ],
      "execution_count": 116,
      "outputs": [
        {
          "output_type": "display_data",
          "data": {
            "text/plain": [
              "K-means clustering with 3 clusters of sizes 31, 20, 114\n",
              "\n",
              "Cluster means:\n",
              "        [,1]\n",
              "1 0.02914195\n",
              "2 0.07609011\n",
              "3 0.00481819\n",
              "\n",
              "Clustering vector:\n",
              "  [1] 3 1 3 2 3 3 2 1 1 3 3 3 1 3 3 3 2 3 3 3 2 1 3 2 3 1 3 3 3 1 3 3 3 2 3 2 3\n",
              " [38] 1 3 3 3 3 3 1 3 3 1 2 3 3 3 3 3 3 2 3 3 3 3 3 3 1 1 3 3 3 3 1 1 3 3 3 1 1\n",
              " [75] 1 1 2 3 3 3 3 3 1 1 3 3 3 3 3 3 3 1 3 3 3 3 3 3 3 3 2 2 3 1 3 3 3 3 3 1 3\n",
              "[112] 3 3 3 3 3 1 3 2 3 1 2 3 3 1 1 3 1 3 2 3 3 3 3 3 3 2 3 3 1 3 2 3 3 1 2 1 3\n",
              "[149] 3 3 3 3 3 3 3 3 3 3 2 2 3 3 3 3 3\n",
              "\n",
              "Within cluster sum of squares by cluster:\n",
              "[1] 0.002466537 0.006438560 0.002619137\n",
              " (between_SS / total_SS =  88.8 %)\n",
              "\n",
              "Available components:\n",
              "\n",
              "[1] \"cluster\"      \"centers\"      \"totss\"        \"withinss\"     \"tot.withinss\"\n",
              "[6] \"betweenss\"    \"size\"         \"iter\"         \"ifault\"      "
            ]
          },
          "metadata": {
            "tags": []
          }
        }
      ]
    },
    {
      "cell_type": "code",
      "metadata": {
        "id": "TFxOXyADgOsN"
      },
      "source": [
        "sort_cases <- covid_data_standardized[order(-covid_data_standardized$std_cases),]\n",
        "\n",
        "sort_deaths <- covid_data_standardized[order(-covid_data_standardized$std_deaths),]\n"
      ],
      "execution_count": 110,
      "outputs": []
    }
  ]
}